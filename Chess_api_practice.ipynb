{
 "cells": [
  {
   "cell_type": "code",
   "execution_count": 26,
   "metadata": {},
   "outputs": [],
   "source": [
    "import chess\n",
    "import chess.svg\n",
    "from IPython.display import SVG\n",
    "import random"
   ]
  },
  {
   "cell_type": "code",
   "execution_count": null,
   "metadata": {},
   "outputs": [],
   "source": [
    "board = chess.Board()"
   ]
  },
  {
   "cell_type": "code",
   "execution_count": null,
   "metadata": {},
   "outputs": [],
   "source": [
    "board"
   ]
  },
  {
   "cell_type": "code",
   "execution_count": null,
   "metadata": {},
   "outputs": [],
   "source": [
    "board.push_san('e4')"
   ]
  },
  {
   "cell_type": "code",
   "execution_count": null,
   "metadata": {},
   "outputs": [],
   "source": [
    "board.push_san('e5')"
   ]
  },
  {
   "cell_type": "code",
   "execution_count": null,
   "metadata": {
    "scrolled": true
   },
   "outputs": [],
   "source": [
    "board"
   ]
  },
  {
   "cell_type": "code",
   "execution_count": null,
   "metadata": {},
   "outputs": [],
   "source": [
    "type(board.legal_moves)"
   ]
  },
  {
   "cell_type": "code",
   "execution_count": null,
   "metadata": {},
   "outputs": [],
   "source": []
  },
  {
   "cell_type": "raw",
   "metadata": {},
   "source": [
    "e4 = chess.Move.from_uci('e2e4')"
   ]
  },
  {
   "cell_type": "raw",
   "metadata": {},
   "source": [
    "def c_move(str_move):\n",
    "    move = chess.Move.from_uci(str_move)\n",
    "    if move in board.legal_moves:\n",
    "        print(str_move, \" is a legal move\")\n",
    "        board.push_san(str_move)\n",
    "        print(board)\n",
    "    else:\n",
    "        print(\"illegal Move! the available legal moves are\", board.legal_moves)"
   ]
  },
  {
   "cell_type": "raw",
   "metadata": {},
   "source": [
    "c_move('e7e5')\n",
    "board"
   ]
  },
  {
   "cell_type": "code",
   "execution_count": null,
   "metadata": {},
   "outputs": [],
   "source": [
    "board = chess.Board()\n",
    "True == board.push_san('e4')"
   ]
  },
  {
   "cell_type": "markdown",
   "metadata": {},
   "source": [
    "# Program draft"
   ]
  },
  {
   "cell_type": "code",
   "execution_count": 2,
   "metadata": {},
   "outputs": [],
   "source": [
    "import chess\n",
    "#import chess.svg\n",
    "import random\n",
    "import pandas as pd\n",
    "import numpy as np\n",
    "\n",
    "board = chess.Board()\n",
    "move_list = []\n",
    "\n",
    "def play():\n",
    "    while len(move_list) <8:\n",
    "        chess_practice()\n",
    "        if len(move_list) == 8:\n",
    "          sys.exit()\n",
    "        break\n",
    "\n",
    "def chess_practice():\n",
    "    \n",
    "    player_color = color_picker()\n",
    "   \n",
    "    print(player_color)\n",
    "    if player_color == 'w':\n",
    "        player_move()\n",
    "        \n",
    "    elif player_color =='b':\n",
    "        computer_move()\n",
    "            \n",
    "def color_picker():\n",
    "    player_color = input(\"What color do you want to play: \\n 'w' for White, 'b' for Black\\n\")\n",
    "    return player_color\n",
    "\n",
    "def player_move():\n",
    "    move_string = input(\"Please enter your move. \\n i.e. e4 or Nf3 \\n\")\n",
    "    move_list.append(move_string)\n",
    "    try: \n",
    "        board.push_san(move_string)\n",
    "        return computer_move()\n",
    "        \n",
    "    except ValueError: \n",
    "        print(\"That is not a legal move. Legal moves are\", board.legal_moves)\n",
    "        print(board)\n",
    "        player_move()\n",
    "\n",
    "def computer_move():\n",
    "    moves=['e5','d5','a5','b5']\n",
    "    s = random.choice(moves)   \n",
    "    \n",
    "    try:\n",
    "        board.push_san(s)\n",
    "        move_list.append(s)\n",
    "    except ValueError:\n",
    "        computer_move()\n",
    "    \n",
    "    print(board)\n",
    "    print(move_list)\n",
    "    return player_move()"
   ]
  },
  {
   "cell_type": "code",
   "execution_count": null,
   "metadata": {},
   "outputs": [],
   "source": [
    "play()"
   ]
  },
  {
   "cell_type": "code",
   "execution_count": 39,
   "metadata": {},
   "outputs": [],
   "source": [
    "df = pd.read_csv(\"FICS_data_fixed.csv\")\n",
    "df = df[(df['5_q_buckets'] == '(951.0, 1518.0]') | (df['5_q_buckets'] == '(1842.0, 3228.0]')]"
   ]
  },
  {
   "cell_type": "code",
   "execution_count": 66,
   "metadata": {},
   "outputs": [],
   "source": [
    "def generate_group(move_list):\n",
    "    if len(move_list) ==1 :\n",
    "        d =  df.groupby(['move1b','5_q_buckets']).agg({'5_q_buckets' : np.size})\n",
    "        d = d / d.groupby(level=1).sum()\n",
    "        d = d.unstack(level=1)\n",
    "        return d\n",
    "    elif len(move_list) ==2:\n",
    "        d = df[(df['move1w'] == move_list[0]) & (df['move1b'] == move_list[1]) ].groupby(['move2w','5_q_buckets']).agg({'5_q_buckets' : np.size})\n",
    "        d = d / d.groupby(level=1).sum()\n",
    "        d=d.unstack(level=1)\n",
    "        return d\n",
    "      "
   ]
  },
  {
   "cell_type": "code",
   "execution_count": 67,
   "metadata": {},
   "outputs": [],
   "source": [
    "def generate_chart(move_list):\n",
    "    generate_group(move_list).plot(kind='bar')"
   ]
  },
  {
   "cell_type": "code",
   "execution_count": 69,
   "metadata": {},
   "outputs": [
    {
     "data": {
      "image/png": "[encoded data removed]",
      "text/plain": [
       "<Figure size 432x288 with 1 Axes>"
      ]
     },
     "metadata": {},
     "output_type": "display_data"
    }
   ],
   "source": [
    "generate_chart(['e4'])"
   ]
  },
  {
   "cell_type": "code",
   "execution_count": null,
   "metadata": {},
   "outputs": [],
   "source": []
  }
 ],
 "metadata": {
  "kernelspec": {
   "display_name": "Python 3",
   "language": "python",
   "name": "python3"
  },
  "language_info": {
   "codemirror_mode": {
    "name": "ipython",
    "version": 3
   },
   "file_extension": ".py",
   "mimetype": "text/x-python",
   "name": "python",
   "nbconvert_exporter": "python",
   "pygments_lexer": "ipython3",
   "version": "3.6.5"
  }
 },
 "nbformat": 4,
 "nbformat_minor": 2
}
