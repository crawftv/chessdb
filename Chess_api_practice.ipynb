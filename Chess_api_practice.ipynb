{
 "cells": [
  {
   "cell_type": "code",
   "execution_count": null,
   "metadata": {},
   "outputs": [],
   "source": [
    "import chess\n",
    "import chess.svg\n",
    "from IPython.display import SVG\n",
    "import random\n",
    "import matplotlib.pyplot as plt\n",
    "import pandas as pd\n"
   ]
  },
  {
   "cell_type": "code",
   "execution_count": null,
   "metadata": {},
   "outputs": [],
   "source": [
    "board = chess.Board()"
   ]
  },
  {
   "cell_type": "code",
   "execution_count": null,
   "metadata": {},
   "outputs": [],
   "source": [
    "board"
   ]
  },
  {
   "cell_type": "code",
   "execution_count": null,
   "metadata": {},
   "outputs": [],
   "source": [
    "board.push_san('e4')"
   ]
  },
  {
   "cell_type": "code",
   "execution_count": null,
   "metadata": {},
   "outputs": [],
   "source": [
    "board.push_san('e5')"
   ]
  },
  {
   "cell_type": "code",
   "execution_count": null,
   "metadata": {
    "scrolled": true
   },
   "outputs": [],
   "source": [
    "board"
   ]
  },
  {
   "cell_type": "code",
   "execution_count": null,
   "metadata": {},
   "outputs": [],
   "source": [
    "type(board.legal_moves)"
   ]
  },
  {
   "cell_type": "code",
   "execution_count": null,
   "metadata": {},
   "outputs": [],
   "source": []
  },
  {
   "cell_type": "raw",
   "metadata": {},
   "source": [
    "e4 = chess.Move.from_uci('e2e4')"
   ]
  },
  {
   "cell_type": "raw",
   "metadata": {},
   "source": [
    "def c_move(str_move):\n",
    "    move = chess.Move.from_uci(str_move)\n",
    "    if move in board.legal_moves:\n",
    "        print(str_move, \" is a legal move\")\n",
    "        board.push_san(str_move)\n",
    "        print(board)\n",
    "    else:\n",
    "        print(\"illegal Move! the available legal moves are\", board.legal_moves)"
   ]
  },
  {
   "cell_type": "raw",
   "metadata": {},
   "source": [
    "c_move('e7e5')\n",
    "board"
   ]
  },
  {
   "cell_type": "code",
   "execution_count": null,
   "metadata": {},
   "outputs": [],
   "source": [
    "board = chess.Board()\n",
    "True == board.push_san('e4')"
   ]
  },
  {
   "cell_type": "markdown",
   "metadata": {},
   "source": [
    "## Helper Functions"
   ]
  },
  {
   "cell_type": "code",
   "execution_count": null,
   "metadata": {},
   "outputs": [],
   "source": [
    "df = pd.read_csv(\"FICS_data_fixed.csv\")\n",
    "df = df[(df['5_q_buckets'] == '(951.0, 1518.0]') | (df['5_q_buckets'] == '(1842.0, 3228.0]')]\n"
   ]
  },
  {
   "cell_type": "code",
   "execution_count": null,
   "metadata": {},
   "outputs": [],
   "source": [
    "def generate_group(move_list):\n",
    "    if len(move_list) ==1 :\n",
    "        d =  df.groupby(['move1b','5_q_buckets']).agg({'5_q_buckets' : np.size})\n",
    "        d = d / d.groupby(level=1).sum()\n",
    "        d = d.unstack(level=1)\n",
    "        return d\n",
    "    elif len(move_list) ==2:\n",
    "        d = df[(df['move1w'] == move_list[0]) & (df['move1b'] == move_list[1]) ].groupby(['move2w','5_q_buckets']).agg({'5_q_buckets' : np.size})\n",
    "        d = d / d.groupby(level=1).sum()\n",
    "        d=d.unstack(level=1)\n",
    "        return d\n",
    "    elif len(move_list) ==3:\n",
    "        d = df[(df['move1w'] == move_list[0]) & (df['move1b'] == move_list[1]) & \n",
    "              (df['move2w'] == move_list[2])].groupby(['move2b','5_q_buckets']).agg({'5_q_buckets' : np.size})\n",
    "        d = d / d.groupby(level=1).sum()\n",
    "        d=d.unstack(level=1)\n",
    "        return d\n",
    "    elif len(move_list) ==4:\n",
    "        d = df[(df['move1w'] == move_list[0]) & (df['move1b'] == move_list[1]) & \n",
    "              (df['move2w'] == move_list[2]) &(df['move2b'] == move_list[3]) ].groupby(['move3w','5_q_buckets']).agg({'5_q_buckets' : np.size})\n",
    "        d = d / d.groupby(level=1).sum()\n",
    "        d=d.unstack(level=1)\n",
    "        return d\n",
    "    elif len(move_list) ==5:\n",
    "        d = df[(df['move1w'] == move_list[0]) & (df['move1b'] == move_list[1]) & \n",
    "              (df['move2w'] == move_list[2]) &(df['move2b'] == move_list[3]) & \n",
    "              (df['move3w'] == move_list[4])].groupby(['move3b','5_q_buckets']).agg({'5_q_buckets' : np.size})\n",
    "        d = d / d.groupby(level=1).sum()\n",
    "        d=d.unstack(level=1)\n",
    "        return d\n",
    "    elif len(move_list) ==6:\n",
    "        d = df[(df['move1w'] == move_list[0]) & (df['move1b'] == move_list[1]) & \n",
    "              (df['move2w'] == move_list[2]) &(df['move2b'] == move_list[3]) & \n",
    "              (df['move3w'] == move_list[4]) &(df['move3b'] == move_list[5])].groupby(['move4w','5_q_buckets']).agg({'5_q_buckets' : np.size})\n",
    "        d = d / d.groupby(level=1).sum()\n",
    "        d=d.unstack(level=1)\n",
    "        return d\n",
    "    elif len(move_list) ==7:\n",
    "        d = df[(df['move1w'] == move_list[0]) & (df['move1b'] == move_list[1]) & \n",
    "              (df['move2w'] == move_list[2]) &(df['move2b'] == move_list[3]) & \n",
    "              (df['move3w'] == move_list[4]) &(df['move3b'] == move_list[5]) &\n",
    "              (df['move4w'] == move_list[4])].groupby(['move4b','5_q_buckets']).agg({'5_q_buckets' : np.size})\n",
    "        d = d / d.groupby(level=1).sum()\n",
    "        d=d.unstack(level=1)\n",
    "        return d\n",
    "      "
   ]
  },
  {
   "cell_type": "code",
   "execution_count": null,
   "metadata": {},
   "outputs": [],
   "source": [
    "def generate_chart(move_list):\n",
    "    s = generate_group(move_list).plot(kind='bar', title=generate_title(move_list),\n",
    "                                   legend =False)\n",
    "    plt.legend( ('High Elo',\"Low Elo\") )\n",
    "    plt.ylabel(\"Percent Move is Played\")\n",
    "    if len(move_list) % 2 ==0:\n",
    "        plt.xlabel(\"Move for White\")\n",
    "    else:\n",
    "        plt.xlabel(\"Move for Black\")\n",
    "    vals = s.get_yticks()\n",
    "    s.set_yticklabels(['{:,.0%}'.format(x) for x in vals])\n",
    "    plt.show();"
   ]
  },
  {
   "cell_type": "code",
   "execution_count": null,
   "metadata": {},
   "outputs": [],
   "source": [
    "def generate_title(move_list):\n",
    "    s = \"\"\n",
    "    if len(move_list) % 2 == 0:\n",
    "        s+= \"Most Common Moves for White Following \"\n",
    "    else:\n",
    "        s+= \"Most Common Moves for Black Following \"\n",
    "    if len(move_list) == 1:\n",
    "        s+= (\"1.\" + move_list[0])\n",
    "    if len(move_list) == 2:\n",
    "        s+= (\"1.\" + move_list[0]+ \" \" + move_list[1])\n",
    "    if len(move_list) ==3:\n",
    "        s+= (\"1.\" + move_list[0]+ \" \" + move_list[1]+\" 2.\" + move_list[2])\n",
    "    if len(move_list) ==4:\n",
    "        s+= (\"1.\" + move_list[0]+ \" \" + move_list[1]+\" 2.\" + move_list[2] +\n",
    "            \" \" + move_list[3])\n",
    "    if len(move_list) ==6:\n",
    "        s+= (\"1.\" + move_list[0]+ \" \" + move_list[1]+\" 2.\" + move_list[2] +\n",
    "            \" \" + move_list[3]+ \" 3.\" + move_list[4])\n",
    "    if len(move_list) ==6:\n",
    "        s+= (\"1.\" + move_list[0]+ \" \" + move_list[1]+\" 2.\" + move_list[2] +\n",
    "            \" \" + move_list[3]+ \" 3.\" + move_list[4] +\" \" + move_list[5])\n",
    "    if len(move_list) ==7:\n",
    "        s+= (\"1.\" + move_list[0]+ \" \" + move_list[1]+\" 2.\" + move_list[2] +\n",
    "            \" \" + move_list[3]+ \" 3.\" + move_list[4] +\" \" + move_list[5] +\n",
    "            \" 4.\"+ move_list[6])\n",
    "    if len(move_list) ==8:\n",
    "        s+= (\"1.\" + move_list[0]+ \" \" + move_list[1]+\" 2.\" + move_list[2] +\n",
    "            \" \" + move_list[3]+ \" 3.\" + move_list[4] +\" \" + move_list[5] +\n",
    "            \" 4.\"+move_list[6] + \" \"+move_list[7])\n",
    "        \n",
    "    return s"
   ]
  },
  {
   "cell_type": "markdown",
   "metadata": {},
   "source": [
    "# Program draft"
   ]
  },
  {
   "cell_type": "code",
   "execution_count": null,
   "metadata": {},
   "outputs": [],
   "source": [
    "import chess\n",
    "#import chess.svg\n",
    "import random\n",
    "import pandas as pd\n",
    "import numpy as np\n",
    "\n",
    "board = chess.Board()\n",
    "move_list = []\n",
    "\n",
    "def play():\n",
    "    \n",
    "    while len(move_list) <8:\n",
    "        chess_practice()\n",
    "        if len(move_list) == 8:\n",
    "          sys.exit()\n",
    "        break\n",
    "\n",
    "def chess_practice():\n",
    "    \n",
    "    player_color = color_picker()\n",
    "   \n",
    "    print(player_color)\n",
    "    if player_color == 'w':\n",
    "        player_move()\n",
    "        \n",
    "    elif player_color =='b':\n",
    "        computer_move()\n",
    "            \n",
    "def color_picker():\n",
    "    player_color = input(\"What color do you want to play: \\n 'w' for White, 'b' for Black\\n\")\n",
    "    return player_color\n",
    "\n",
    "def player_move():\n",
    "    move_string = input(\"Please enter your move. \\n i.e. e4 or Nf3 \\n\")\n",
    "    try: \n",
    "        board.push_san(move_string)\n",
    "        move_list.append(move_string)\n",
    "        \n",
    "        return computer_move()\n",
    "        \n",
    "    except ValueError: \n",
    "        print(move_string + \" is not a legal move. Legal moves are\", board.legal_moves)\n",
    "        return player_move()\n",
    "    \n",
    "    \n",
    "def computer_move():\n",
    "    moves=['e5','d5','a5','b5']\n",
    "    s = random.choice(moves)\n",
    "    try:\n",
    "        board.push_san(s)\n",
    "        move_list.append(s)\n",
    "        print(\"Black Plays \" +s)\n",
    "        generate_chart(move_list)\n",
    "        \n",
    "        print(board)\n",
    "        return player_move()\n",
    "    except ValueError:\n",
    "        computer_move()\n",
    "    \n",
    "    print(board)\n",
    "    print(move_list)\n",
    "    \n",
    "    "
   ]
  },
  {
   "cell_type": "code",
   "execution_count": null,
   "metadata": {},
   "outputs": [],
   "source": [
    "play()"
   ]
  },
  {
   "cell_type": "code",
   "execution_count": null,
   "metadata": {},
   "outputs": [],
   "source": []
  },
  {
   "cell_type": "code",
   "execution_count": null,
   "metadata": {},
   "outputs": [],
   "source": [
    "generate_chart(['e4','d5'])"
   ]
  },
  {
   "cell_type": "code",
   "execution_count": null,
   "metadata": {},
   "outputs": [],
   "source": [
    "generate_title(['e4','e5', 'Nf3', 'a3','a6','a4','a5'])"
   ]
  },
  {
   "cell_type": "code",
   "execution_count": null,
   "metadata": {},
   "outputs": [],
   "source": [
    "generate_group(['e4','e5','Nf3'])"
   ]
  },
  {
   "cell_type": "code",
   "execution_count": null,
   "metadata": {},
   "outputs": [],
   "source": []
  },
  {
   "cell_type": "code",
   "execution_count": null,
   "metadata": {},
   "outputs": [],
   "source": []
  }
 ],
 "metadata": {
  "kernelspec": {
   "display_name": "Python 3",
   "language": "python",
   "name": "python3"
  },
  "language_info": {
   "codemirror_mode": {
    "name": "ipython",
    "version": 3
   },
   "file_extension": ".py",
   "mimetype": "text/x-python",
   "name": "python",
   "nbconvert_exporter": "python",
   "pygments_lexer": "ipython3",
   "version": "3.6.5"
  }
 },
 "nbformat": 4,
 "nbformat_minor": 2
}
